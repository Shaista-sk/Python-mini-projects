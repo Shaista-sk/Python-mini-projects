{
  "nbformat": 4,
  "nbformat_minor": 0,
  "metadata": {
    "colab": {
      "provenance": [],
      "include_colab_link": true
    },
    "kernelspec": {
      "name": "python3",
      "display_name": "Python 3"
    },
    "language_info": {
      "name": "python"
    }
  },
  "cells": [
    {
      "cell_type": "markdown",
      "metadata": {
        "id": "view-in-github",
        "colab_type": "text"
      },
      "source": [
        "<a href=\"https://colab.research.google.com/github/Shaista-sk/Python-mini-projects/blob/main/Grade_management.ipynb\" target=\"_parent\"><img src=\"https://colab.research.google.com/assets/colab-badge.svg\" alt=\"Open In Colab\"/></a>"
      ]
    },
    {
      "cell_type": "code",
      "source": [
        "#Mini Student Grade Management System (Simple CLI)\n",
        "students = {}\n",
        "def add_student():\n",
        "    name = input(\"Enter student name: \").strip()\n",
        "    if not name:\n",
        "        print(\"Name cannot be empty!\")\n",
        "        return\n",
        "    try:\n",
        "        grade = float(input(\"Enter grade (0-100): \"))\n",
        "    except ValueError:\n",
        "        print(\"Invalid grade!\")\n",
        "        return\n",
        "    students[name] = grade\n",
        "    print(f\"Added {name} with grade {grade}.\")\n",
        "\n",
        "def view_students():\n",
        "    if not students:\n",
        "        print(\"No students found.\")\n",
        "        return\n",
        "    print(\"\\n--- Student Grades ---\")\n",
        "    for name, grade in students.items():\n",
        "        print(f\"{name}: {grade}\")\n",
        "\n",
        "def calculate_average():\n",
        "    if not students:\n",
        "        print(\"No students to calculate average.\")\n",
        "        return\n",
        "    avg = sum(students.values()) / len(students)\n",
        "    print(f\"Average grade: {avg:.2f}\")\n",
        "\n",
        "\n",
        "def main():\n",
        "    while True:\n",
        "        print(\"\\n\\n\\nStudent Grade Management System\")\n",
        "        print(\"1. Add Student\")\n",
        "        print(\"2. View Students\")\n",
        "        print(\"3. Calculate Average\")\n",
        "        print(\"4. Exit\")\n",
        "        choice = input(\"Enter choice (1-4): \").strip()\n",
        "\n",
        "        if choice == \"1\":\n",
        "            add_student()\n",
        "        elif choice == \"2\":\n",
        "            view_students()\n",
        "        elif choice == \"3\":\n",
        "            calculate_average()\n",
        "        elif choice == \"4\":\n",
        "            print(\"Goodbye!\")\n",
        "            break\n",
        "        else:\n",
        "            print(\"Invalid choice, try again.\")\n",
        "\n",
        "if __name__ == \"__main__\":\n",
        "    main()\n"
      ],
      "metadata": {
        "colab": {
          "base_uri": "https://localhost:8080/"
        },
        "id": "51bnA9TiMugP",
        "outputId": "347b5550-24c9-4ceb-ba06-c86709faa55a"
      },
      "execution_count": null,
      "outputs": [
        {
          "output_type": "stream",
          "name": "stdout",
          "text": [
            "\n",
            "\n",
            "\n",
            "Student Grade Management System\n",
            "1. Add Student\n",
            "2. View Students\n",
            "3. Calculate Average\n",
            "4. Exit\n",
            "Enter choice (1-4): 1\n",
            "Enter student name: Shaista\n",
            "Enter grade (0-100): 98\n",
            "Added Shaista with grade 98.0.\n",
            "\n",
            "\n",
            "\n",
            "Student Grade Management System\n",
            "1. Add Student\n",
            "2. View Students\n",
            "3. Calculate Average\n",
            "4. Exit\n",
            "Enter choice (1-4): 2\n",
            "\n",
            "--- Student Grades ---\n",
            "Shaista: 98.0\n",
            "\n",
            "\n",
            "\n",
            "Student Grade Management System\n",
            "1. Add Student\n",
            "2. View Students\n",
            "3. Calculate Average\n",
            "4. Exit\n",
            "Enter choice (1-4): 1\n",
            "Enter student name: Hadiya\n",
            "Enter grade (0-100): 50\n",
            "Added Hadiya with grade 50.0.\n",
            "\n",
            "\n",
            "\n",
            "Student Grade Management System\n",
            "1. Add Student\n",
            "2. View Students\n",
            "3. Calculate Average\n",
            "4. Exit\n",
            "Enter choice (1-4): 3\n",
            "Average grade: 74.00\n",
            "\n",
            "\n",
            "\n",
            "Student Grade Management System\n",
            "1. Add Student\n",
            "2. View Students\n",
            "3. Calculate Average\n",
            "4. Exit\n",
            "Enter choice (1-4): 4\n",
            "Goodbye!\n"
          ]
        }
      ]
    }
  ]
}