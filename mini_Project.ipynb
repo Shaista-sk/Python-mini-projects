{
  "nbformat": 4,
  "nbformat_minor": 0,
  "metadata": {
    "colab": {
      "provenance": [],
      "authorship_tag": "ABX9TyMFivGaVKuttcaSbrOIhREN",
      "include_colab_link": true
    },
    "kernelspec": {
      "name": "python3",
      "display_name": "Python 3"
    },
    "language_info": {
      "name": "python"
    }
  },
  "cells": [
    {
      "cell_type": "markdown",
      "metadata": {
        "id": "view-in-github",
        "colab_type": "text"
      },
      "source": [
        "<a href=\"https://colab.research.google.com/github/Shaista-sk/Python-mini-projects/blob/main/mini_Project.ipynb\" target=\"_parent\"><img src=\"https://colab.research.google.com/assets/colab-badge.svg\" alt=\"Open In Colab\"/></a>"
      ]
    },
    {
      "cell_type": "code",
      "execution_count": null,
      "metadata": {
        "id": "j-IeX44QC7q6"
      },
      "outputs": [],
      "source": []
    },
    {
      "cell_type": "code",
      "source": [
        "print(\"      Personal Finance Management System      \")\n",
        "balance = 0\n",
        "transactions = []\n",
        "while True:\n",
        "    print(\"\\nPlease choose an option:\")\n",
        "    print(\"1. Add income\")\n",
        "    print(\"2. Add expense\")\n",
        "    print(\"3. View transaction history\")\n",
        "    print(\"4. View balance\")\n",
        "    print(\"5. Exit\")\n",
        "\n",
        "    choice = input(\"Enter your choice (1-5): \")\n",
        "\n",
        "    if choice == \"1\":\n",
        "        income = float(input(\"Enter income amount: \"))\n",
        "        balance += income\n",
        "        transactions.append(f\"Income: +{income}\")\n",
        "        print(\"Income added successfully!\")\n",
        "\n",
        "    elif choice == \"2\":\n",
        "        expense = float(input(\"Enter expense amount: \"))\n",
        "        if expense <= balance:\n",
        "            balance -= expense\n",
        "            transactions.append(f\"Expense: -{expense}\")\n",
        "            print(\"Expense recorded successfully!\")\n",
        "        else:\n",
        "            print(\"Not enough balance for this expense!\")\n",
        "\n",
        "    elif choice == \"3\":\n",
        "        print(\"\\n     Transaction History      \")\n",
        "        if len(transactions) == 0:\n",
        "            print(\"No transactions yet.\")\n",
        "        else:\n",
        "            for t in transactions:\n",
        "                print(t)\n",
        "\n",
        "    elif choice == \"4\":\n",
        "        print(f\"\\nCurrent Balance: {balance}\")\n",
        "\n",
        "    elif choice == \"5\":\n",
        "        print(\"Exiting\\nThank you for using Personal Finance Management System!\")\n",
        "        break\n",
        "\n",
        "    else:\n",
        "        print(\"Invalid choice. Please enter a number between 1 and 5.\")\n"
      ],
      "metadata": {
        "colab": {
          "base_uri": "https://localhost:8080/"
        },
        "id": "zP-_8jVTDwWH",
        "outputId": "e83d8042-8215-4ce5-bdca-e0c9b607c8aa"
      },
      "execution_count": null,
      "outputs": [
        {
          "output_type": "stream",
          "name": "stdout",
          "text": [
            "      Personal Finance Management System      \n",
            "\n",
            "Please choose an option:\n",
            "1. Add income\n",
            "2. Add expense\n",
            "3. View transaction history\n",
            "4. View balance\n",
            "5. Exit\n",
            "Enter your choice (1-5): 1\n",
            "Enter income amount: 10000\n",
            "Income added successfully!\n",
            "\n",
            "Please choose an option:\n",
            "1. Add income\n",
            "2. Add expense\n",
            "3. View transaction history\n",
            "4. View balance\n",
            "5. Exit\n",
            "Enter your choice (1-5): 2\n",
            "Enter expense amount: 3000\n",
            "Expense recorded successfully!\n",
            "\n",
            "Please choose an option:\n",
            "1. Add income\n",
            "2. Add expense\n",
            "3. View transaction history\n",
            "4. View balance\n",
            "5. Exit\n",
            "Enter your choice (1-5): 3\n",
            "\n",
            "     Transaction History      \n",
            "Income: +10000.0\n",
            "Expense: -3000.0\n",
            "\n",
            "Please choose an option:\n",
            "1. Add income\n",
            "2. Add expense\n",
            "3. View transaction history\n",
            "4. View balance\n",
            "5. Exit\n",
            "Enter your choice (1-5): 4\n",
            "\n",
            "Current Balance: 7000.0\n",
            "\n",
            "Please choose an option:\n",
            "1. Add income\n",
            "2. Add expense\n",
            "3. View transaction history\n",
            "4. View balance\n",
            "5. Exit\n",
            "Enter your choice (1-5): 5\n",
            "Exiting\n",
            "Thank you for using Personal Finance Management System!\n"
          ]
        }
      ]
    }
  ]
}